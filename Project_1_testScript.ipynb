{
 "cells": [
  {
   "cell_type": "code",
   "execution_count": 1,
   "metadata": {},
   "outputs": [
    {
     "name": "stdout",
     "output_type": "stream",
     "text": [
      "Object was created: <crud_animal.AnimalShelter object at 0x7fb43c13feb8>\n"
     ]
    }
   ],
   "source": [
    "# import CRUD module\n",
    "from crud_animal import AnimalShelter \n",
    "\n",
    "# authentication variables\n",
    "username = 'aacUser'     \n",
    "password = 'Andy12'\n",
    "\n",
    "# instantiate class with authentication variables\n",
    "assign = AnimalShelter(username, password)\n",
    "print('Object was created:', assign)     #verify\n"
   ]
  },
  {
   "cell_type": "code",
   "execution_count": 2,
   "metadata": {},
   "outputs": [
    {
     "name": "stdout",
     "output_type": "stream",
     "text": [
      "Data has been inserted: True\n"
     ]
    }
   ],
   "source": [
    "# sample data to insert and find\n",
    "data = {\n",
    "    \"animal_type\":\"Dragonfly\"\n",
    "}\n",
    "\n",
    "# call to method to insert data\n",
    "addData = assign.create(data)\n",
    "print('Data has been inserted:', addData) #verify"
   ]
  },
  {
   "cell_type": "code",
   "execution_count": 3,
   "metadata": {},
   "outputs": [
    {
     "name": "stdout",
     "output_type": "stream",
     "text": [
      "Data has been read: <pymongo.cursor.Cursor object at 0x7fb4344b0160>\n",
      "{'animal_type': 'Dragonfly', '_id': ObjectId('62e4ab08984de7e171bb35dd')}\n"
     ]
    }
   ],
   "source": [
    "# call to method to read data                        \n",
    "readData = assign.read(data)\n",
    "print('Data has been read:',readData)    #verify\n",
    "print(data)"
   ]
  },
  {
   "cell_type": "code",
   "execution_count": 4,
   "metadata": {},
   "outputs": [
    {
     "data": {
      "text/plain": [
       "'[{\"_id\": {\"$oid\": \"62e4ab08984de7e171bb35dd\"}, \"animal_type\": \"Dragonfly\", \"color\": \"purple\"}]'"
      ]
     },
     "execution_count": 4,
     "metadata": {},
     "output_type": "execute_result"
    }
   ],
   "source": [
    "# Test data to update document\n",
    "look_up_data = {\"animal_type\":\"Dragonfly\"}\n",
    "update_data = {\"$set\":{\"color\":\"purple\"}}\n",
    "\n",
    "#call to method to update document\n",
    "assign.update(look_up_data, update_data)"
   ]
  },
  {
   "cell_type": "code",
   "execution_count": 5,
   "metadata": {},
   "outputs": [
    {
     "data": {
      "text/plain": [
       "'[]'"
      ]
     },
     "execution_count": 5,
     "metadata": {},
     "output_type": "execute_result"
    }
   ],
   "source": [
    "# Test data to delete document\n",
    "delete_data = {\"animal_type\":\"Dragonfly\"}\n",
    "\n",
    "# call to method to delete document\n",
    "assign.delete(delete_data)"
   ]
  },
  {
   "cell_type": "code",
   "execution_count": null,
   "metadata": {},
   "outputs": [],
   "source": []
  },
  {
   "cell_type": "code",
   "execution_count": null,
   "metadata": {},
   "outputs": [],
   "source": []
  },
  {
   "cell_type": "code",
   "execution_count": null,
   "metadata": {},
   "outputs": [],
   "source": []
  },
  {
   "cell_type": "code",
   "execution_count": null,
   "metadata": {},
   "outputs": [],
   "source": []
  },
  {
   "cell_type": "code",
   "execution_count": null,
   "metadata": {},
   "outputs": [],
   "source": []
  },
  {
   "cell_type": "code",
   "execution_count": null,
   "metadata": {},
   "outputs": [],
   "source": []
  },
  {
   "cell_type": "code",
   "execution_count": null,
   "metadata": {},
   "outputs": [],
   "source": []
  }
 ],
 "metadata": {
  "kernelspec": {
   "display_name": "Python 3",
   "language": "python",
   "name": "python3"
  },
  "language_info": {
   "codemirror_mode": {
    "name": "ipython",
    "version": 3
   },
   "file_extension": ".py",
   "mimetype": "text/x-python",
   "name": "python",
   "nbconvert_exporter": "python",
   "pygments_lexer": "ipython3",
   "version": "3.6.9"
  }
 },
 "nbformat": 4,
 "nbformat_minor": 2
}
